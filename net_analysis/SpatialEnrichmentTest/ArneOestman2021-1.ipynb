{
 "cells": [
  {
   "cell_type": "code",
   "execution_count": 1,
   "metadata": {},
   "outputs": [],
   "source": [
    "from enrichment import spatial_enrichment\n",
    "import os\n",
    "import glob\n",
    "import numpy as np\n",
    "import matplotlib.pyplot as plt\n",
    "import pandas as pd"
   ]
  },
  {
   "cell_type": "code",
   "execution_count": 2,
   "metadata": {},
   "outputs": [],
   "source": [
    "#csv_dir = r'C:\\Users\\IT-WL-annkl878\\Box\\CellClassification2023-01-12\\Qupath_TMA5\\output\\LGG*.csv'\n",
    "csv_dir = r'/media/fredrik/My Passport/Data/Panel 2/Tissue curation LGG TMA panel 2/Tissue curation TMA 8/output/*.csv'\n",
    "\n",
    "# Get the list of all CSV files in the directory\n",
    "csv_files = glob.glob(csv_dir)\n",
    "\n",
    "# Create an empty DataFrame\n",
    "df = pd.DataFrame()\n",
    "\n",
    "# Loop through the CSV files and concatenate them into the DataFrame\n",
    "for csv_file in csv_files:\n",
    "    df = pd.concat([df, pd.read_csv(csv_file, delimiter='\\t')], ignore_index=True)"
   ]
  },
  {
   "cell_type": "code",
   "execution_count": 3,
   "metadata": {},
   "outputs": [],
   "source": [
    "#'Image'\n",
    "#'Class'\n",
    "#'Centroid X µm'\n",
    "#'Centroid Y µm'   "
   ]
  },
  {
   "cell_type": "code",
   "execution_count": 4,
   "metadata": {},
   "outputs": [],
   "source": [
    "cores = df.Image.unique()\n",
    "\n",
    "#labels_combinations = []\n",
    "#for partner1 in labels:\n",
    "#    for partner2 in labels:\n",
    "#        combination = partner1 + '_' + partner2 + '_' + str(nbh_radius)\n",
    "#        labels_combinations.extend([combination])\n",
    "\n",
    "#results_df = pd.DataFrame(columns = labels_combinations)\n",
    "results_df = pd.DataFrame()"
   ]
  },
  {
   "cell_type": "code",
   "execution_count": 5,
   "metadata": {},
   "outputs": [],
   "source": [
    "results_df = pd.DataFrame()"
   ]
  },
  {
   "cell_type": "code",
   "execution_count": 6,
   "metadata": {},
   "outputs": [],
   "source": [
    "for c in range(0, len(cores)):\n",
    "    core_df = df[df.Image == cores[c]]\n",
    "\n",
    "    xy = core_df[['Centroid X µm', 'Centroid Y µm']].to_numpy()\n",
    "    cell_classes = core_df['Class'].to_numpy()\n",
    "\n",
    "    nbh_radius = 30\n",
    "\n",
    "    #call spatial enrichment from Axel\n",
    "    #enrich, labels = spatial_enrichment(xy, cell_classes, method='radius', r = nbh_radius)\n",
    "    result = spatial_enrichment(xy, cell_classes, method='radius', r = nbh_radius)\n",
    "    enrich = result[\"z_scores\"]\n",
    "    labels = result[\"labels\"]\n",
    "\n",
    "    # get lable combinations, not all cores might have cells of all celltypes\n",
    "    labels_combinations = []\n",
    "    for partner1 in labels:\n",
    "        for partner2 in labels:\n",
    "            combination = partner1 + '_' + partner2 + '_' + str(nbh_radius)\n",
    "            labels_combinations.extend([combination])\n",
    "\n",
    "    #linearize result to enter in results_table\n",
    "    enrich_vector = np.reshape(enrich, np.shape(enrich)[0]* np.shape(enrich)[1])\n",
    "    enrich_core_30 = dict(zip(labels_combinations, enrich_vector))\n",
    "\n",
    "    nbh_radius = 50\n",
    "\n",
    "    #call spatial enrichment from Axel\n",
    "    #enrich, labels = spatial_enrichment(xy, cell_classes, method='radius', r = nbh_radius)\n",
    "    result = spatial_enrichment(xy, cell_classes, method='radius', r = nbh_radius)\n",
    "    enrich = result[\"z_scores\"]\n",
    "    labels = result[\"labels\"]\n",
    "\n",
    "    # get lable combinations, not all cores might have cells of all celltypes\n",
    "    labels_combinations = []\n",
    "    for partner1 in labels:\n",
    "        for partner2 in labels:\n",
    "            combination = partner1 + '_' + partner2 + '_' + str(nbh_radius)\n",
    "            labels_combinations.extend([combination])\n",
    "\n",
    "    #linearize result to enter in results_table\n",
    "    enrich_vector = np.reshape(enrich, np.shape(enrich)[0]* np.shape(enrich)[1])\n",
    "    enrich_core_50 = dict(zip(labels_combinations, enrich_vector))\n",
    "\n",
    "    data_core = pd.DataFrame()\n",
    "    data_core.loc[c, 'Name'] = cores[c]\n",
    "    pd_enrich_30 = pd.DataFrame(enrich_core_30, index = [c])\n",
    "    pd_enrich_50 = pd.DataFrame(enrich_core_50, index = [c])\n",
    "    data_core = pd.concat([data_core, pd_enrich_30, pd_enrich_50], axis=1)\n",
    "\n",
    "    # basic cell counts\n",
    "    data_core['nCells'] = len(core_df)\n",
    "\n",
    "    # todo: too complicated\n",
    "    abundance_cells = core_df.groupby('Class')['Image'].count() \n",
    "    abundance_pd = pd.DataFrame(abundance_cells.to_dict(), index = [c])\n",
    "    abundance_pd = abundance_pd.add_suffix('_abundance')\n",
    "\n",
    "    fractions = core_df.groupby('Class')['Image'].count() / len(core_df)\n",
    "    fractions_dict = fractions.to_dict()\n",
    "    fractions_pd = pd.DataFrame(fractions_dict, index = [c])\n",
    "    fractions_pd = fractions_pd.add_suffix('_fraction')\n",
    "\n",
    "    data_core = pd.concat([data_core, abundance_pd, fractions_pd], axis=1)\n",
    "\n",
    "    results_df = pd.concat([results_df, data_core], axis=0)"
   ]
  },
  {
   "cell_type": "code",
   "execution_count": 7,
   "metadata": {},
   "outputs": [],
   "source": [
    "results_df.to_csv(\"output.csv\")"
   ]
  }
 ],
 "metadata": {
  "kernelspec": {
   "display_name": "Python 3 (ipykernel)",
   "language": "python",
   "name": "python3"
  },
  "language_info": {
   "codemirror_mode": {
    "name": "ipython",
    "version": 3
   },
   "file_extension": ".py",
   "mimetype": "text/x-python",
   "name": "python",
   "nbconvert_exporter": "python",
   "pygments_lexer": "ipython3",
   "version": "3.8.12"
  },
  "vscode": {
   "interpreter": {
    "hash": "a7c87ba47715356bc2388b9d78d9f0a17df870dd4b13b9f467f4a1345674ca94"
   }
  }
 },
 "nbformat": 4,
 "nbformat_minor": 2
}
